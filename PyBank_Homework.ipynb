{
 "cells": [
  {
   "cell_type": "code",
   "execution_count": 2,
   "metadata": {},
   "outputs": [],
   "source": [
    "# Import the csv budget_data file\n",
    "from pathlib import Path\n",
    "import csv"
   ]
  },
  {
   "cell_type": "code",
   "execution_count": 3,
   "metadata": {},
   "outputs": [
    {
     "name": "stdout",
     "output_type": "stream",
     "text": [
      "Current working directory: /Users/kevinwalsh/Desktop/Coding_Homework/Python_Homework/PyBank\n"
     ]
    }
   ],
   "source": [
    "# Check which directory Python is currently communicating with\n",
    "print(f\"Current working directory: {Path.cwd()}\")"
   ]
  },
  {
   "cell_type": "code",
   "execution_count": 4,
   "metadata": {},
   "outputs": [],
   "source": [
    "# Set the file path\n",
    "csvpath = Path('../../../cu-nyc-fin-pt-09-2020-u-c/Homework/02-Python/Instructions/PyBank/Resources/budget_data.csv')\n"
   ]
  },
  {
   "cell_type": "code",
   "execution_count": 5,
   "metadata": {},
   "outputs": [],
   "source": [
    "# Initialize month and profit/loss lists\n",
    "month_list = []\n",
    "profit_loss_list = []"
   ]
  },
  {
   "cell_type": "code",
   "execution_count": 6,
   "metadata": {},
   "outputs": [],
   "source": [
    "# Open the input Path as a csv file\n",
    "with open(csvpath, \"r\") as csvfile:\n",
    "    # Feed the csv.reader() function the delimiter of ',' as we are dealing with a csv file\n",
    "    csvreader = csv.reader(csvfile, delimiter=',')\n",
    "    \n",
    "    # Set up to read from line after the cvs header\n",
    "    csv_header = next(csvreader)\n",
    " \n",
    "    #Set Profit/Losses as intergers for better readability\n",
    "    for row in csvreader:\n",
    "        row[0]\n",
    "        profit_losses = int(row[1])\n",
    "     \n",
    "    # Feed this csv data into month_list and profit_loss_list\n",
    "        month_list.append(str(row[0]))\n",
    "        profit_loss_list.append(int(row[1]))\n",
    "    "
   ]
  },
  {
   "cell_type": "code",
   "execution_count": 7,
   "metadata": {},
   "outputs": [],
   "source": [
    "# Initialize Variables\n",
    "total_months=0\n",
    "total_profit=0"
   ]
  },
  {
   "cell_type": "code",
   "execution_count": 8,
   "metadata": {},
   "outputs": [],
   "source": [
    "# Total profit as well as total months\n",
    "for x in profit_loss_list:\n",
    "    total_profit += x\n",
    "    total_months += 1"
   ]
  },
  {
   "cell_type": "code",
   "execution_count": 9,
   "metadata": {},
   "outputs": [],
   "source": [
    "# Initialize Variables\n",
    "average_monthly_change = []\n",
    "previous_month_amount = 0"
   ]
  },
  {
   "cell_type": "code",
   "execution_count": 10,
   "metadata": {},
   "outputs": [],
   "source": [
    "# Average profit or loss during the period\n",
    "for x in range(len(profit_loss_list)):\n",
    "    if x == 0:\n",
    "        previous_month_amount = profit_loss_list[x]\n",
    "    else:\n",
    "        monthly_change = profit_loss_list[x] - previous_month_amount\n",
    "        average_monthly_change.append(monthly_change)\n",
    "        previous_month_amount = profit_loss_list[x]\n",
    "        \n",
    "# Deriving average profit or loss during period\n",
    "number_of_changes = len(average_monthly_change)\n",
    "total_change = sum(average_monthly_change)\n",
    "average_profit_loss = round(total_change / number_of_changes,2)"
   ]
  },
  {
   "cell_type": "code",
   "execution_count": 11,
   "metadata": {},
   "outputs": [],
   "source": [
    "# Initialize Variables\n",
    "greatest_profit_month = ''\n",
    "greatest_profit_amt = 0\n",
    "greatest_loss_month = ''\n",
    "greatest_loss_amt = 0"
   ]
  },
  {
   "cell_type": "code",
   "execution_count": 12,
   "metadata": {},
   "outputs": [],
   "source": [
    "# Greatest profit and loss as well as their corresponding month\n",
    "for x in range(len(average_monthly_change)):\n",
    "    if average_monthly_change[x] > greatest_profit_amt:\n",
    "        greatest_profit_amt = average_monthly_change[x]\n",
    "        greatest_profit_month = month_list[x+1]\n",
    "    elif average_monthly_change[x] < greatest_loss_amt:\n",
    "        greatest_loss_amt = average_monthly_change[x]\n",
    "        greatest_loss_month = month_list[x+1]"
   ]
  },
  {
   "cell_type": "code",
   "execution_count": 13,
   "metadata": {},
   "outputs": [
    {
     "name": "stdout",
     "output_type": "stream",
     "text": [
      "The Financial Analysis\n",
      "------------------------\n",
      "Total Months: 86\n",
      "Total Profit: $38382578\n",
      "Average Change: $(-2315.12)\n",
      "Greatest Positive Profit Change: Feb-2012 $(1926159)\n",
      "Greatest Negative Loss Change: Sep-2013 $(-2196167)\n"
     ]
    }
   ],
   "source": [
    "# Print the Results\n",
    "print(f\"The Financial Analysis\")\n",
    "print(f\"------------------------\")\n",
    "print(f\"Total Months: {total_months}\")\n",
    "print(f\"Total Profit: ${total_profit}\")\n",
    "print(f\"Average Change: $({average_profit_loss})\")\n",
    "print(f\"Greatest Positive Profit Change: {greatest_profit_month} $({greatest_profit_amt})\")\n",
    "print(f\"Greatest Negative Loss Change: {greatest_loss_month} $({greatest_loss_amt})\")"
   ]
  },
  {
   "cell_type": "code",
   "execution_count": 17,
   "metadata": {},
   "outputs": [],
   "source": [
    "# Take results and save to a txt file\n",
    "output_path = Path('PyBank_results.txt')\n",
    "\n",
    "with open(output_path, 'w') as file:\n",
    "    file.write(f\"The Financial Analysis\\n.\")\n",
    "    file.write(f\"------------------------\\n.\")\n",
    "    file.write(f\"Totoal Months: {total_months}\\n.\")\n",
    "    file.write(f\"Total Profit: $({total_profit})\\n.\")\n",
    "    file.write(f\"Average Change: $({average_profit_loss})\\n.\")\n",
    "    file.write(f\"Greatest Positive Profit Change: {greatest_profit_month} $({greatest_profit_amt})\\n.\")\n",
    "    file.write(f\"Greatest Negative Loss Change: {greatest_loss_month} $({greatest_loss_amt})\\n.\")"
   ]
  },
  {
   "cell_type": "code",
   "execution_count": null,
   "metadata": {},
   "outputs": [],
   "source": []
  }
 ],
 "metadata": {
  "kernelspec": {
   "display_name": "Python 3",
   "language": "python",
   "name": "python3"
  },
  "language_info": {
   "codemirror_mode": {
    "name": "ipython",
    "version": 3
   },
   "file_extension": ".py",
   "mimetype": "text/x-python",
   "name": "python",
   "nbconvert_exporter": "python",
   "pygments_lexer": "ipython3",
   "version": "3.8.3"
  }
 },
 "nbformat": 4,
 "nbformat_minor": 4
}
